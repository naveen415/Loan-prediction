{
 "cells": [
  {
   "cell_type": "markdown",
   "metadata": {
    "id": "lFwktUA6a7zH"
   },
   "source": [
    "# Code 4\n",
    "- Numerical EDA\n",
    "  - Basic Transforrmation\n",
    "- Logistic Model (Balanced/ Unbalanced)"
   ]
  },
  {
   "cell_type": "markdown",
   "metadata": {
    "id": "9DXfa773a7zZ"
   },
   "source": [
    "## 1/ Import Libraries"
   ]
  },
  {
   "cell_type": "code",
   "execution_count": null,
   "metadata": {
    "colab": {
     "base_uri": "https://localhost:8080/"
    },
    "executionInfo": {
     "elapsed": 20172,
     "status": "ok",
     "timestamp": 1619777434716,
     "user": {
      "displayName": "Data Science Master Minds",
      "photoUrl": "",
      "userId": "13790691282857793894"
     },
     "user_tz": -330
    },
    "id": "s7o2t9blWo-b",
    "outputId": "dabceaf1-5260-44aa-ec3b-d931d27559ea"
   },
   "outputs": [],
   "source": [
    "# #CodeSection1\n",
    "# from google.colab import drive\n",
    "# drive.mount('/mntDrive') "
   ]
  },
  {
   "cell_type": "code",
   "execution_count": 1,
   "metadata": {
    "id": "n8yqRIuha7zn"
   },
   "outputs": [],
   "source": [
    "#CodeSection2\n",
    "import pandas as pd\n",
    "import numpy as np"
   ]
  },
  {
   "cell_type": "markdown",
   "metadata": {
    "id": "wRz6crvoa7zo"
   },
   "source": [
    "## 2/ Import Data"
   ]
  },
  {
   "cell_type": "code",
   "execution_count": 2,
   "metadata": {
    "id": "3u-V5dA4a7zp"
   },
   "outputs": [],
   "source": [
    "#CodeSection3\n",
    "train = pd.read_csv('input/train.csv')\n",
    "test = pd.read_csv('input/test.csv')"
   ]
  },
  {
   "cell_type": "markdown",
   "metadata": {
    "id": "k-SeaUk9a7zp"
   },
   "source": [
    "## 3/ Combine both Datasets (train, test)"
   ]
  },
  {
   "cell_type": "code",
   "execution_count": 3,
   "metadata": {
    "id": "LOCJ0YdIa7zq"
   },
   "outputs": [],
   "source": [
    "#CodeSection4\n",
    "all_data = [train, test]"
   ]
  },
  {
   "cell_type": "markdown",
   "metadata": {
    "id": "ox_afLNJtkyO"
   },
   "source": [
    "### Check Combined Data \n",
    "- Missing Value\n",
    "- Data Types"
   ]
  },
  {
   "cell_type": "code",
   "execution_count": 4,
   "metadata": {
    "colab": {
     "base_uri": "https://localhost:8080/"
    },
    "executionInfo": {
     "elapsed": 886,
     "status": "ok",
     "timestamp": 1619777501646,
     "user": {
      "displayName": "Data Science Master Minds",
      "photoUrl": "",
      "userId": "13790691282857793894"
     },
     "user_tz": -330
    },
    "id": "T_aFcU3Na7zq",
    "outputId": "0caea3b4-cfe1-446d-8bf5-cb1e9d3c7812"
   },
   "outputs": [
    {
     "data": {
      "text/plain": [
       "Loan_ID                0\n",
       "Gender                24\n",
       "Married                3\n",
       "Dependents            25\n",
       "Education              0\n",
       "Self_Employed         55\n",
       "ApplicantIncome        0\n",
       "CoapplicantIncome      0\n",
       "LoanAmount            27\n",
       "Loan_Amount_Term      20\n",
       "Credit_History        79\n",
       "Property_Area          0\n",
       "Loan_Status          367\n",
       "dtype: int64"
      ]
     },
     "execution_count": 4,
     "metadata": {},
     "output_type": "execute_result"
    }
   ],
   "source": [
    "#CodeSection5\n",
    "# Combine both to check Missing Value\n",
    "pd.concat([train, test], axis = 0).isnull().sum()"
   ]
  },
  {
   "cell_type": "code",
   "execution_count": 5,
   "metadata": {
    "colab": {
     "base_uri": "https://localhost:8080/"
    },
    "executionInfo": {
     "elapsed": 1223,
     "status": "ok",
     "timestamp": 1619777510216,
     "user": {
      "displayName": "Data Science Master Minds",
      "photoUrl": "",
      "userId": "13790691282857793894"
     },
     "user_tz": -330
    },
    "id": "yCMGv2mOa7zu",
    "outputId": "abf809af-0adf-41ab-e8b8-08be8d6fb540"
   },
   "outputs": [
    {
     "name": "stdout",
     "output_type": "stream",
     "text": [
      "<class 'pandas.core.frame.DataFrame'>\n",
      "RangeIndex: 614 entries, 0 to 613\n",
      "Data columns (total 13 columns):\n",
      " #   Column             Non-Null Count  Dtype  \n",
      "---  ------             --------------  -----  \n",
      " 0   Loan_ID            614 non-null    object \n",
      " 1   Gender             601 non-null    object \n",
      " 2   Married            611 non-null    object \n",
      " 3   Dependents         599 non-null    object \n",
      " 4   Education          614 non-null    object \n",
      " 5   Self_Employed      582 non-null    object \n",
      " 6   ApplicantIncome    614 non-null    int64  \n",
      " 7   CoapplicantIncome  614 non-null    float64\n",
      " 8   LoanAmount         592 non-null    float64\n",
      " 9   Loan_Amount_Term   600 non-null    float64\n",
      " 10  Credit_History     564 non-null    float64\n",
      " 11  Property_Area      614 non-null    object \n",
      " 12  Loan_Status        614 non-null    object \n",
      "dtypes: float64(4), int64(1), object(8)\n",
      "memory usage: 62.5+ KB\n"
     ]
    }
   ],
   "source": [
    "#CodeSection6\n",
    "# Check Data types for each variable\n",
    "train.info()"
   ]
  },
  {
   "cell_type": "markdown",
   "metadata": {
    "id": "DdB8TzBPa7zv"
   },
   "source": [
    "## 4/ EDA - Check Numerical Variables"
   ]
  },
  {
   "cell_type": "code",
   "execution_count": 6,
   "metadata": {
    "id": "vC53ci3Ja7zv"
   },
   "outputs": [],
   "source": [
    "#CodeSection7\n",
    "# Lets Import the Seaborn Library\n",
    "import seaborn as sns"
   ]
  },
  {
   "cell_type": "markdown",
   "metadata": {
    "id": "tZ9MGesTa7z_"
   },
   "source": [
    "### Lets start with Numerical Variable/Feature - 1"
   ]
  },
  {
   "cell_type": "code",
   "execution_count": 10,
   "metadata": {
    "colab": {
     "base_uri": "https://localhost:8080/",
     "height": 300
    },
    "executionInfo": {
     "elapsed": 1587,
     "status": "ok",
     "timestamp": 1619777570350,
     "user": {
      "displayName": "Data Science Master Minds",
      "photoUrl": "",
      "userId": "13790691282857793894"
     },
     "user_tz": -330
    },
    "id": "uyguqgb2a70A",
    "outputId": "c8254a4d-db75-4d09-a7c6-f6e7456aedeb"
   },
   "outputs": [
    {
     "data": {
      "text/plain": [
       "<matplotlib.axes._subplots.AxesSubplot at 0x24d1f428f40>"
      ]
     },
     "execution_count": 10,
     "metadata": {},
     "output_type": "execute_result"
    },
    {
     "data": {
      "image/png": "[encoded data removed]",
      "text/plain": [
       "<Figure size 432x288 with 1 Axes>"
      ]
     },
     "metadata": {
      "needs_background": "light"
     },
     "output_type": "display_data"
    }
   ],
   "source": [
    "#CodeSection8\n",
    "# in this case we start with \"ApplicantIncome\"\n",
    "# Use Histplot to check if its a normal distribution\n",
    "sns.distplot(train['ApplicantIncome'])\n",
    "# Not Normal"
   ]
  },
  {
   "cell_type": "code",
   "execution_count": null,
   "metadata": {
    "id": "VR_zwLVXOhQx"
   },
   "outputs": [],
   "source": [
    "#Check other variables too and transform if needed"
   ]
  },
  {
   "cell_type": "markdown",
   "metadata": {
    "id": "KxOOS6FeXbYZ"
   },
   "source": [
    "### Log Transformation\n",
    "- Transform a Numerical Feature to Normal"
   ]
  },
  {
   "cell_type": "code",
   "execution_count": 11,
   "metadata": {
    "colab": {
     "base_uri": "https://localhost:8080/",
     "height": 297
    },
    "executionInfo": {
     "elapsed": 1660,
     "status": "ok",
     "timestamp": 1619777837813,
     "user": {
      "displayName": "Data Science Master Minds",
      "photoUrl": "",
      "userId": "13790691282857793894"
     },
     "user_tz": -330
    },
    "id": "QaqPw5Zxa70A",
    "outputId": "f0c294e8-d082-4533-f7b1-ddab4c7f09bf"
   },
   "outputs": [
    {
     "data": {
      "text/plain": [
       "<matplotlib.axes._subplots.AxesSubplot at 0x24d1f58a1f0>"
      ]
     },
     "execution_count": 11,
     "metadata": {},
     "output_type": "execute_result"
    },
    {
     "data": {
      "image/png": "[encoded data removed]",
      "text/plain": [
       "<Figure size 432x288 with 1 Axes>"
      ]
     },
     "metadata": {
      "needs_background": "light"
     },
     "output_type": "display_data"
    }
   ],
   "source": [
    "#CodeSection9\n",
    "# Use np.log to tranform make your feature normal\n",
    "feature_normal = np.log(train['ApplicantIncome'])\n",
    "\n",
    "# Plot Normal Distribution\n",
    "sns.distplot(feature_normal)"
   ]
  },
  {
   "cell_type": "markdown",
   "metadata": {
    "id": "f7GDYbHtYghf"
   },
   "source": [
    "### Now lets Tranform One Variable/Feature"
   ]
  },
  {
   "cell_type": "code",
   "execution_count": 12,
   "metadata": {
    "id": "mCYm1tIhYfcU"
   },
   "outputs": [],
   "source": [
    "#CodeSection10\n",
    "# Write the Transformation Code\n",
    "for datasets in all_data:\n",
    "    datasets['ApplicantIncome']=np.log(datasets['ApplicantIncome'] +1)\n",
    " # \"1\" is added to avoid error for rows that contain \"0\""
   ]
  },
  {
   "cell_type": "code",
   "execution_count": 14,
   "metadata": {
    "colab": {
     "base_uri": "https://localhost:8080/",
     "height": 297
    },
    "executionInfo": {
     "elapsed": 943,
     "status": "ok",
     "timestamp": 1619777958124,
     "user": {
      "displayName": "Data Science Master Minds",
      "photoUrl": "",
      "userId": "13790691282857793894"
     },
     "user_tz": -330
    },
    "id": "elfBu1UpZStT",
    "outputId": "ed9c52c6-f31e-4bbd-d25c-ee7b72df68c4"
   },
   "outputs": [
    {
     "data": {
      "text/plain": [
       "<matplotlib.axes._subplots.AxesSubplot at 0x24d1f58d610>"
      ]
     },
     "execution_count": 14,
     "metadata": {},
     "output_type": "execute_result"
    },
    {
     "data": {
      "image/png": "[encoded data removed]",
      "text/plain": [
       "<Figure size 432x288 with 1 Axes>"
      ]
     },
     "metadata": {
      "needs_background": "light"
     },
     "output_type": "display_data"
    }
   ],
   "source": [
    "#CodeSection11\n",
    "# Lets check again\n",
    "sns.distplot(test['ApplicantIncome'])\n",
    "# Normal Distribution"
   ]
  },
  {
   "cell_type": "markdown",
   "metadata": {
    "id": "KboVZiYca70C"
   },
   "source": [
    "### Replicate for other Numerical Variable/Features"
   ]
  },
  {
   "cell_type": "code",
   "execution_count": 16,
   "metadata": {
    "id": "QITXr52ca70I"
   },
   "outputs": [],
   "source": [
    "#CodeSection12\n",
    "\n",
    "# Identify all other Numerical Variables \n",
    "numerical_features = ['CoapplicantIncome','LoanAmount', 'Loan_Amount_Term', 'Credit_History']\n",
    "\n",
    "# Write a loop to do the same - use num_var\n",
    "for var in numerical_features:\n",
    "    for datasets in all_data:\n",
    "        datasets[var]=np.log(datasets[var] +1)\n",
    "    "
   ]
  },
  {
   "cell_type": "markdown",
   "metadata": {
    "id": "am7cBDhea70L"
   },
   "source": [
    "## 5/ Impute Numerical Variables"
   ]
  },
  {
   "cell_type": "markdown",
   "metadata": {
    "id": "iYr79AHBa70L"
   },
   "source": [
    "### Impute all Numerical Variables at once\n",
    "\n"
   ]
  },
  {
   "cell_type": "code",
   "execution_count": 17,
   "metadata": {
    "id": "HyWOSnV8a70M"
   },
   "outputs": [],
   "source": [
    "#CodeSection13\n",
    "# Write a loop to Impute all Numerical Vairbales\n",
    "for dataset in all_data:\n",
    "  # Numerical Feature 1\n",
    "  dataset['ApplicantIncome'] = dataset['ApplicantIncome'].fillna(dataset['ApplicantIncome'].median())\n",
    "  \n",
    "  # Numerical Feature 2\n",
    "  dataset['CoapplicantIncome'] = dataset['CoapplicantIncome'].fillna(dataset['CoapplicantIncome'].median())\n",
    "\n",
    "  # Numerical Feature 3\n",
    "  dataset['LoanAmount'] = dataset['LoanAmount'].fillna(dataset['LoanAmount'].median())\n",
    "  \n",
    "  # Numerical Feature 5\n",
    "  dataset['Loan_Amount_Term'] = dataset['Loan_Amount_Term'].fillna(dataset['Loan_Amount_Term'].median())\n",
    "\n",
    "  # Numerical Feature 6\n",
    "  dataset['Credit_History'] = dataset['Credit_History'].fillna(dataset['Credit_History'].median())"
   ]
  },
  {
   "cell_type": "markdown",
   "metadata": {
    "id": "HSChDYATa70P"
   },
   "source": [
    "## 6/ Impute Categorical Variables\n",
    "- Lets try another Strategy of Imputing \"Missing\" where a Category value is missing"
   ]
  },
  {
   "cell_type": "markdown",
   "metadata": {
    "id": "D-qhcS6Ma70P"
   },
   "source": [
    "### Impute all Categorical Variables at once"
   ]
  },
  {
   "cell_type": "code",
   "execution_count": 18,
   "metadata": {
    "id": "_JgFfORJa70Q"
   },
   "outputs": [],
   "source": [
    "#CodeSection14\n",
    "for dataset in all_data:\n",
    "  # Categorical Feature 1\n",
    "  dataset['Gender'] = dataset['Gender'].fillna('Missing')\n",
    "\n",
    "  # Categorical Feature 2\n",
    "  dataset['Married'] = dataset['Married'].fillna('Missing')\n",
    "  \n",
    "  # Categorical Feature 3\n",
    "  dataset['Dependents'] = dataset['Dependents'].fillna('Missing')\n",
    "\n",
    "  # Categorical Feature 4\n",
    "  dataset['Self_Employed'] = dataset['Self_Employed'].fillna('Missing')"
   ]
  },
  {
   "cell_type": "markdown",
   "metadata": {
    "id": "Yn4guIioa70V"
   },
   "source": [
    "## 7/ Now Re Check all Features"
   ]
  },
  {
   "cell_type": "code",
   "execution_count": 19,
   "metadata": {
    "colab": {
     "base_uri": "https://localhost:8080/"
    },
    "executionInfo": {
     "elapsed": 855,
     "status": "ok",
     "timestamp": 1619778117010,
     "user": {
      "displayName": "Data Science Master Minds",
      "photoUrl": "",
      "userId": "13790691282857793894"
     },
     "user_tz": -330
    },
    "id": "MHrl6vMma70W",
    "outputId": "871d1352-2151-4a7b-ac2b-f0e5e542467a"
   },
   "outputs": [
    {
     "data": {
      "text/plain": [
       "Loan_ID                0\n",
       "Gender                 0\n",
       "Married                0\n",
       "Dependents             0\n",
       "Education              0\n",
       "Self_Employed          0\n",
       "ApplicantIncome        0\n",
       "CoapplicantIncome      0\n",
       "LoanAmount             0\n",
       "Loan_Amount_Term       0\n",
       "Credit_History         0\n",
       "Property_Area          0\n",
       "Loan_Status          367\n",
       "dtype: int64"
      ]
     },
     "execution_count": 19,
     "metadata": {},
     "output_type": "execute_result"
    }
   ],
   "source": [
    "#CodeSection15\n",
    "# Combine both to check Missing Value\n",
    "pd.concat([train, test], axis = 0).isnull().sum()"
   ]
  },
  {
   "cell_type": "markdown",
   "metadata": {
    "id": "6Ade98pva70W"
   },
   "source": [
    "## 8/ Prepare Data for Model Model"
   ]
  },
  {
   "cell_type": "code",
   "execution_count": 20,
   "metadata": {
    "colab": {
     "base_uri": "https://localhost:8080/",
     "height": 232
    },
    "executionInfo": {
     "elapsed": 863,
     "status": "ok",
     "timestamp": 1619778123014,
     "user": {
      "displayName": "Data Science Master Minds",
      "photoUrl": "",
      "userId": "13790691282857793894"
     },
     "user_tz": -330
    },
    "id": "TEySx0Nza70X",
    "outputId": "d247a5dc-c34d-4f68-b382-86dddd471ad3"
   },
   "outputs": [
    {
     "data": {
      "text/html": [
       "<div>\n",
       "<style scoped>\n",
       "    .dataframe tbody tr th:only-of-type {\n",
       "        vertical-align: middle;\n",
       "    }\n",
       "\n",
       "    .dataframe tbody tr th {\n",
       "        vertical-align: top;\n",
       "    }\n",
       "\n",
       "    .dataframe thead th {\n",
       "        text-align: right;\n",
       "    }\n",
       "</style>\n",
       "<table border=\"1\" class=\"dataframe\">\n",
       "  <thead>\n",
       "    <tr style=\"text-align: right;\">\n",
       "      <th></th>\n",
       "      <th>Loan_ID</th>\n",
       "      <th>Gender</th>\n",
       "      <th>Married</th>\n",
       "      <th>Dependents</th>\n",
       "      <th>Education</th>\n",
       "      <th>Self_Employed</th>\n",
       "      <th>ApplicantIncome</th>\n",
       "      <th>CoapplicantIncome</th>\n",
       "      <th>LoanAmount</th>\n",
       "      <th>Loan_Amount_Term</th>\n",
       "      <th>Credit_History</th>\n",
       "      <th>Property_Area</th>\n",
       "    </tr>\n",
       "  </thead>\n",
       "  <tbody>\n",
       "    <tr>\n",
       "      <th>0</th>\n",
       "      <td>LP001015</td>\n",
       "      <td>Male</td>\n",
       "      <td>Yes</td>\n",
       "      <td>0</td>\n",
       "      <td>Graduate</td>\n",
       "      <td>No</td>\n",
       "      <td>8.651899</td>\n",
       "      <td>0.000000</td>\n",
       "      <td>4.709530</td>\n",
       "      <td>5.888878</td>\n",
       "      <td>0.693147</td>\n",
       "      <td>Urban</td>\n",
       "    </tr>\n",
       "    <tr>\n",
       "      <th>1</th>\n",
       "      <td>LP001022</td>\n",
       "      <td>Male</td>\n",
       "      <td>Yes</td>\n",
       "      <td>1</td>\n",
       "      <td>Graduate</td>\n",
       "      <td>No</td>\n",
       "      <td>8.031710</td>\n",
       "      <td>7.313887</td>\n",
       "      <td>4.844187</td>\n",
       "      <td>5.888878</td>\n",
       "      <td>0.693147</td>\n",
       "      <td>Urban</td>\n",
       "    </tr>\n",
       "    <tr>\n",
       "      <th>2</th>\n",
       "      <td>LP001031</td>\n",
       "      <td>Male</td>\n",
       "      <td>Yes</td>\n",
       "      <td>2</td>\n",
       "      <td>Graduate</td>\n",
       "      <td>No</td>\n",
       "      <td>8.517393</td>\n",
       "      <td>7.496097</td>\n",
       "      <td>5.342334</td>\n",
       "      <td>5.888878</td>\n",
       "      <td>0.693147</td>\n",
       "      <td>Urban</td>\n",
       "    </tr>\n",
       "    <tr>\n",
       "      <th>3</th>\n",
       "      <td>LP001035</td>\n",
       "      <td>Male</td>\n",
       "      <td>Yes</td>\n",
       "      <td>2</td>\n",
       "      <td>Graduate</td>\n",
       "      <td>No</td>\n",
       "      <td>7.758333</td>\n",
       "      <td>7.842671</td>\n",
       "      <td>4.615121</td>\n",
       "      <td>5.888878</td>\n",
       "      <td>0.693147</td>\n",
       "      <td>Urban</td>\n",
       "    </tr>\n",
       "    <tr>\n",
       "      <th>4</th>\n",
       "      <td>LP001051</td>\n",
       "      <td>Male</td>\n",
       "      <td>No</td>\n",
       "      <td>0</td>\n",
       "      <td>Not Graduate</td>\n",
       "      <td>No</td>\n",
       "      <td>8.094684</td>\n",
       "      <td>0.000000</td>\n",
       "      <td>4.369448</td>\n",
       "      <td>5.888878</td>\n",
       "      <td>0.693147</td>\n",
       "      <td>Urban</td>\n",
       "    </tr>\n",
       "  </tbody>\n",
       "</table>\n",
       "</div>"
      ],
      "text/plain": [
       "    Loan_ID Gender Married Dependents     Education Self_Employed  \\\n",
       "0  LP001015   Male     Yes          0      Graduate            No   \n",
       "1  LP001022   Male     Yes          1      Graduate            No   \n",
       "2  LP001031   Male     Yes          2      Graduate            No   \n",
       "3  LP001035   Male     Yes          2      Graduate            No   \n",
       "4  LP001051   Male      No          0  Not Graduate            No   \n",
       "\n",
       "   ApplicantIncome  CoapplicantIncome  LoanAmount  Loan_Amount_Term  \\\n",
       "0         8.651899           0.000000    4.709530          5.888878   \n",
       "1         8.031710           7.313887    4.844187          5.888878   \n",
       "2         8.517393           7.496097    5.342334          5.888878   \n",
       "3         7.758333           7.842671    4.615121          5.888878   \n",
       "4         8.094684           0.000000    4.369448          5.888878   \n",
       "\n",
       "   Credit_History Property_Area  \n",
       "0        0.693147         Urban  \n",
       "1        0.693147         Urban  \n",
       "2        0.693147         Urban  \n",
       "3        0.693147         Urban  \n",
       "4        0.693147         Urban  "
      ]
     },
     "execution_count": 20,
     "metadata": {},
     "output_type": "execute_result"
    }
   ],
   "source": [
    "#CodeSection16\n",
    "# Check First 5 Rows of Test Data\n",
    "test.head()"
   ]
  },
  {
   "cell_type": "code",
   "execution_count": 21,
   "metadata": {
    "id": "A6yS1pqza70X"
   },
   "outputs": [],
   "source": [
    "#CodeSection17\n",
    "# Get X and y Variables for your Dataset\n",
    "X = train.drop(['Loan_Status','Loan_ID'], axis =  1)\n",
    "y = train['Loan_Status']"
   ]
  },
  {
   "cell_type": "markdown",
   "metadata": {
    "id": "w1gJQ7Qsa70Y"
   },
   "source": [
    "### Create Dummy Variables for  Categorical Variables"
   ]
  },
  {
   "cell_type": "code",
   "execution_count": 22,
   "metadata": {
    "id": "ipcXGR73a70Y"
   },
   "outputs": [],
   "source": [
    "#CodeSection18\n",
    "# Get Dummy Variables\n",
    "X = pd.get_dummies(X)  # Keep only n - 1 Variables - Use \"drop_first = True\""
   ]
  },
  {
   "cell_type": "markdown",
   "metadata": {
    "id": "p62cfPzVa70Y"
   },
   "source": [
    "## 9/ Build Model"
   ]
  },
  {
   "cell_type": "code",
   "execution_count": 23,
   "metadata": {
    "id": "GdLbPTCXa70Y"
   },
   "outputs": [],
   "source": [
    "#CodeSection19\n",
    "#Import Logistic Regression Library\n",
    "from sklearn.linear_model import LogisticRegression\n",
    "\n",
    "#Initialize LR\n",
    "clf = LogisticRegression(max_iter = 1000)"
   ]
  },
  {
   "cell_type": "code",
   "execution_count": 24,
   "metadata": {
    "id": "WrD0GfaSa70Z"
   },
   "outputs": [],
   "source": [
    "#CodeSection20\n",
    "# Fit Model\n",
    "model = clf.fit(X, y)"
   ]
  },
  {
   "cell_type": "markdown",
   "metadata": {
    "id": "Omv4nWgwa70Z"
   },
   "source": [
    "### Check Accuracy of Model on Train Data"
   ]
  },
  {
   "cell_type": "code",
   "execution_count": 25,
   "metadata": {
    "id": "PQi2u6uQa70Z"
   },
   "outputs": [],
   "source": [
    "#CodeSection21\n",
    "# Predict on Train Data\n",
    "y_pred = model.predict(X)"
   ]
  },
  {
   "cell_type": "markdown",
   "metadata": {
    "id": "AqPB9qLLa70a"
   },
   "source": [
    "### We can use a Accuracy Function from Metrics\n",
    "- Check Train Accuracy"
   ]
  },
  {
   "cell_type": "code",
   "execution_count": 26,
   "metadata": {
    "id": "L8VJNsHIa70a"
   },
   "outputs": [],
   "source": [
    "#CodeSection22\n",
    "# Import metrics library\n",
    "from sklearn.metrics import accuracy_score"
   ]
  },
  {
   "cell_type": "code",
   "execution_count": 27,
   "metadata": {
    "id": "jeeS7nkja70a"
   },
   "outputs": [],
   "source": [
    "#CodeSection23\n",
    "# get Actual \"y\" variables (use \"y_true\" as variable)\n",
    "y_true = train['Loan_Status']"
   ]
  },
  {
   "cell_type": "code",
   "execution_count": 28,
   "metadata": {
    "colab": {
     "base_uri": "https://localhost:8080/"
    },
    "executionInfo": {
     "elapsed": 747,
     "status": "ok",
     "timestamp": 1619778165496,
     "user": {
      "displayName": "Data Science Master Minds",
      "photoUrl": "",
      "userId": "13790691282857793894"
     },
     "user_tz": -330
    },
    "id": "p7llEg7aa70b",
    "outputId": "e1942ea1-53db-4ac0-81be-7bbeed158a14"
   },
   "outputs": [
    {
     "name": "stdout",
     "output_type": "stream",
     "text": [
      " Train Accuracy : 80.9%\n"
     ]
    }
   ],
   "source": [
    "#CodeSection24\n",
    "# Print Train Accuracy\n",
    "print(f\" Train Accuracy : {accuracy_score(y_true, y_pred):0.1%}\")"
   ]
  },
  {
   "cell_type": "markdown",
   "metadata": {
    "id": "QIMZgLEWa70b"
   },
   "source": [
    "## 10/ Predict and Submit"
   ]
  },
  {
   "cell_type": "markdown",
   "metadata": {
    "id": "BwZubGmra70b"
   },
   "source": [
    "### Predict"
   ]
  },
  {
   "cell_type": "code",
   "execution_count": 29,
   "metadata": {
    "id": "7qnE4K9Ca70c"
   },
   "outputs": [],
   "source": [
    "#CodeSection25\n",
    "# Get all the X Variables from the Test Dataset\n",
    "X_test = test.drop(['Loan_ID'], axis =  1)"
   ]
  },
  {
   "cell_type": "code",
   "execution_count": 30,
   "metadata": {
    "id": "0ivs1ED7a70d"
   },
   "outputs": [],
   "source": [
    "#CodeSection26\n",
    "#Covert to Dummies\n",
    "X_test = pd.get_dummies(X_test)"
   ]
  },
  {
   "cell_type": "code",
   "execution_count": 32,
   "metadata": {
    "id": "eE8sFN6Na70e"
   },
   "outputs": [],
   "source": [
    "#CodeSection27\n",
    "# use this code if the next Code shows error\n",
    "X_test['Married_Missing']  = 0"
   ]
  },
  {
   "cell_type": "code",
   "execution_count": 33,
   "metadata": {
    "id": "cHsaBNQFa70e"
   },
   "outputs": [],
   "source": [
    "#CodeSection28\n",
    "# Predict on X_test Data (\"X_test_prep\")\n",
    "X_test_prep = model.predict(X_test)"
   ]
  },
  {
   "cell_type": "markdown",
   "metadata": {
    "id": "KKz48NFmPuah"
   },
   "source": [
    "### Import Sample Submission"
   ]
  },
  {
   "cell_type": "code",
   "execution_count": 34,
   "metadata": {
    "colab": {
     "base_uri": "https://localhost:8080/",
     "height": 195
    },
    "executionInfo": {
     "elapsed": 869,
     "status": "ok",
     "timestamp": 1619778216812,
     "user": {
      "displayName": "Data Science Master Minds",
      "photoUrl": "",
      "userId": "13790691282857793894"
     },
     "user_tz": -330
    },
    "id": "RN-xBj4aa70f",
    "outputId": "7793e2a6-4ad4-45c3-e82b-e5aa81566469"
   },
   "outputs": [
    {
     "data": {
      "text/html": [
       "<div>\n",
       "<style scoped>\n",
       "    .dataframe tbody tr th:only-of-type {\n",
       "        vertical-align: middle;\n",
       "    }\n",
       "\n",
       "    .dataframe tbody tr th {\n",
       "        vertical-align: top;\n",
       "    }\n",
       "\n",
       "    .dataframe thead th {\n",
       "        text-align: right;\n",
       "    }\n",
       "</style>\n",
       "<table border=\"1\" class=\"dataframe\">\n",
       "  <thead>\n",
       "    <tr style=\"text-align: right;\">\n",
       "      <th></th>\n",
       "      <th>Loan_ID</th>\n",
       "      <th>Loan_Status</th>\n",
       "    </tr>\n",
       "  </thead>\n",
       "  <tbody>\n",
       "    <tr>\n",
       "      <th>0</th>\n",
       "      <td>LP001015</td>\n",
       "      <td>N</td>\n",
       "    </tr>\n",
       "    <tr>\n",
       "      <th>1</th>\n",
       "      <td>LP001022</td>\n",
       "      <td>N</td>\n",
       "    </tr>\n",
       "    <tr>\n",
       "      <th>2</th>\n",
       "      <td>LP001031</td>\n",
       "      <td>N</td>\n",
       "    </tr>\n",
       "    <tr>\n",
       "      <th>3</th>\n",
       "      <td>LP001035</td>\n",
       "      <td>N</td>\n",
       "    </tr>\n",
       "    <tr>\n",
       "      <th>4</th>\n",
       "      <td>LP001051</td>\n",
       "      <td>N</td>\n",
       "    </tr>\n",
       "  </tbody>\n",
       "</table>\n",
       "</div>"
      ],
      "text/plain": [
       "    Loan_ID Loan_Status\n",
       "0  LP001015           N\n",
       "1  LP001022           N\n",
       "2  LP001031           N\n",
       "3  LP001035           N\n",
       "4  LP001051           N"
      ]
     },
     "execution_count": 34,
     "metadata": {},
     "output_type": "execute_result"
    }
   ],
   "source": [
    "#CodeSection29\n",
    "sample_submission = pd.read_csv('input/sample_submission.csv')\n",
    "sample_submission.head()"
   ]
  },
  {
   "cell_type": "markdown",
   "metadata": {
    "id": "SClle2xqa70e"
   },
   "source": [
    "### Create Submission File"
   ]
  },
  {
   "cell_type": "code",
   "execution_count": 35,
   "metadata": {
    "id": "LgdlFL46a70f"
   },
   "outputs": [],
   "source": [
    "#CodeSection30\n",
    "submission = pd.DataFrame({\n",
    "    'Loan_ID' : test['Loan_ID'],\n",
    "    'Loan_Status' : X_test_prep\n",
    "})"
   ]
  },
  {
   "cell_type": "markdown",
   "metadata": {
    "id": "MAZ0TP21a70g"
   },
   "source": [
    "### Export Submission File"
   ]
  },
  {
   "cell_type": "code",
   "execution_count": 36,
   "metadata": {
    "id": "AnfbYZoKa70g"
   },
   "outputs": [],
   "source": [
    "#CodeSection31\n",
    "submission.to_csv('output/O4_Transformation_Strategy.csv', index = False)"
   ]
  },
  {
   "cell_type": "code",
   "execution_count": null,
   "metadata": {
    "id": "n13R8vTfa70g"
   },
   "outputs": [],
   "source": [
    "# LB Accuracy : 0.7777777777777778."
   ]
  }
 ],
 "metadata": {
  "colab": {
   "collapsed_sections": [],
   "name": "InClass Working Code 4 - Numerical EDA Transformation Strategy.ipynb",
   "provenance": [],
   "toc_visible": true
  },
  "kernelspec": {
   "display_name": "Python 3",
   "language": "python",
   "name": "python3"
  },
  "language_info": {
   "codemirror_mode": {
    "name": "ipython",
    "version": 3
   },
   "file_extension": ".py",
   "mimetype": "text/x-python",
   "name": "python",
   "nbconvert_exporter": "python",
   "pygments_lexer": "ipython3",
   "version": "3.8.3"
  }
 },
 "nbformat": 4,
 "nbformat_minor": 1
}
